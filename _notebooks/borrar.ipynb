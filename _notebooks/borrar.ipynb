{
 "cells": [
  {
   "cell_type": "code",
   "execution_count": 10,
   "metadata": {},
   "outputs": [
    {
     "data": {
      "text/plain": [
       "'0b111000110111010000010100000100001110011100110111101000011011110010000000011111111000000001101101011111111000011101000000001111010110010110101100110111010010101111110110'"
      ]
     },
     "execution_count": 10,
     "metadata": {},
     "output_type": "execute_result"
    }
   ],
   "source": [
    "# (332423562090910247419247128461248618725466124921846)^(908665) mod 255\n",
    "\n",
    "# turn into binary\n",
    "num = 332423562090910247419247128461248618725466124921846\n",
    "binary = bin(num)\n",
    "binary"
   ]
  },
  {
   "cell_type": "code",
   "execution_count": 11,
   "metadata": {},
   "outputs": [
    {
     "data": {
      "text/plain": [
       "'0b110010100001011100010000001110000010101011110000110110000111110101000111110001011010111011101011101001000111101010001101000110000101001101100111010100011010101000100000001100100010011000111000000111100111011100101001110100111110010110111111111000101100001001101001110010101011000100110001110111100100001101111110010010001001000001100100'"
      ]
     },
     "execution_count": 11,
     "metadata": {},
     "output_type": "execute_result"
    }
   ],
   "source": [
    "squared = num * num\n",
    "bin(squared)"
   ]
  },
  {
   "cell_type": "code",
   "execution_count": 12,
   "metadata": {},
   "outputs": [
    {
     "data": {
      "text/plain": [
       "'0b101100111000111000010101101011000100110011000011001001100011101100101001110001000001100101100101110011010100100000001001101100111111111101110011100011110010110110110010011001011100001000000101011010011011000011110001010100101011110001000010010011011100001100111001001101101010011111001000100001101101000000111011101001101010100010100011001110000111000010110101101101111000011110100110001110001100101001101100010111100011001111111111100010001101000101100110011111000010110101100000010011111000110000011000'"
      ]
     },
     "execution_count": 12,
     "metadata": {},
     "output_type": "execute_result"
    }
   ],
   "source": [
    "squared = num * num * num\n",
    "bin(squared)"
   ]
  },
  {
   "cell_type": "code",
   "execution_count": 13,
   "metadata": {},
   "outputs": [
    {
     "data": {
      "text/plain": [
       "'0b100111111000100001100111101011001000111011100010110111101001110110000111011010010010011011111001001001111100101000000110110100010001001101100101001000011111000111101000111101110101011000101011001001110100111111110100100111011101110011100111011000001110100101110011000001111101000011111101110111101110000110110001110111000101001010001100101111001111001011101111010100100111111101110111001101000100100001111100101101100101001001110001111010111000010001010011010100110111101111001101100000011101011100001011010100010100101010011010000000010101010101011110011000100000000101001110011000111111010110110110000100101100000011111100100001110000101111111001101100001010011100010000'"
      ]
     },
     "execution_count": 13,
     "metadata": {},
     "output_type": "execute_result"
    }
   ],
   "source": [
    "squared = num * num * num * num\n",
    "bin(squared)"
   ]
  },
  {
   "cell_type": "code",
   "execution_count": 2,
   "metadata": {},
   "outputs": [
    {
     "data": {
      "text/plain": [
       "'0b11011101110101111001'"
      ]
     },
     "execution_count": 2,
     "metadata": {},
     "output_type": "execute_result"
    }
   ],
   "source": [
    "# turn exponent into binary\n",
    "exp = 908665\n",
    "binary_exp = bin(exp)\n",
    "binary_exp"
   ]
  },
  {
   "cell_type": "code",
   "execution_count": 3,
   "metadata": {},
   "outputs": [
    {
     "data": {
      "text/plain": [
       "'0b11111111'"
      ]
     },
     "execution_count": 3,
     "metadata": {},
     "output_type": "execute_result"
    }
   ],
   "source": [
    "bin(255)"
   ]
  },
  {
   "cell_type": "code",
   "execution_count": 4,
   "metadata": {},
   "outputs": [
    {
     "data": {
      "text/plain": [
       "'0b111111110'"
      ]
     },
     "execution_count": 4,
     "metadata": {},
     "output_type": "execute_result"
    }
   ],
   "source": [
    "bin(255*2)"
   ]
  },
  {
   "cell_type": "code",
   "execution_count": 5,
   "metadata": {},
   "outputs": [
    {
     "data": {
      "text/plain": [
       "'0b1011111101'"
      ]
     },
     "execution_count": 5,
     "metadata": {},
     "output_type": "execute_result"
    }
   ],
   "source": [
    "bin(255*3)"
   ]
  }
 ],
 "metadata": {
  "kernelspec": {
   "display_name": "Python 3.10.5 64-bit",
   "language": "python",
   "name": "python3"
  },
  "language_info": {
   "codemirror_mode": {
    "name": "ipython",
    "version": 3
   },
   "file_extension": ".py",
   "mimetype": "text/x-python",
   "name": "python",
   "nbconvert_exporter": "python",
   "pygments_lexer": "ipython3",
   "version": "3.10.5"
  },
  "orig_nbformat": 4,
  "vscode": {
   "interpreter": {
    "hash": "aee8b7b246df8f9039afb4144a1f6fd8d2ca17a180786b69acc140d282b71a49"
   }
  }
 },
 "nbformat": 4,
 "nbformat_minor": 2
}
