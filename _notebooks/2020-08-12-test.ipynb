{
 "cells": [
  {
   "cell_type": "markdown",
   "metadata": {},
   "source": [
    "---\n",
    "title: santi\n",
    "tags: TeXt\n",
    "article_header:\n",
    "  type: cover\n",
    "  image:\n",
    "    src: /screenshot.jpg\n",
    "key: 2016-06-01-smaug\n",
    "tags: sumo robot programming competition electronics 3dprinting\n",
    "---"
   ]
  },
  {
   "cell_type": "markdown",
   "metadata": {},
   "source": [
    "Is this nice?"
   ]
  },
  {
   "cell_type": "code",
   "execution_count": 8,
   "metadata": {},
   "outputs": [
    {
     "data": {
      "text/html": [
       "        <script type=\"text/javascript\">\n",
       "        window.PlotlyConfig = {MathJaxConfig: 'local'};\n",
       "        if (window.MathJax && window.MathJax.Hub && window.MathJax.Hub.Config) {window.MathJax.Hub.Config({SVG: {font: \"STIX-Web\"}});}\n",
       "        if (typeof require !== 'undefined') {\n",
       "        require.undef(\"plotly\");\n",
       "        requirejs.config({\n",
       "            paths: {\n",
       "                'plotly': ['https://cdn.plot.ly/plotly-2.12.1.min']\n",
       "            }\n",
       "        });\n",
       "        require(['plotly'], function(Plotly) {\n",
       "            window._Plotly = Plotly;\n",
       "        });\n",
       "        }\n",
       "        </script>\n",
       "        "
      ]
     },
     "metadata": {},
     "output_type": "display_data"
    },
    {
     "name": "stdout",
     "output_type": "stream",
     "text": [
      "[*********************100%***********************]  1 of 1 completed\n"
     ]
    },
    {
     "data": {
      "text/html": [
       "<div>\n",
       "<style scoped>\n",
       "    .dataframe tbody tr th:only-of-type {\n",
       "        vertical-align: middle;\n",
       "    }\n",
       "\n",
       "    .dataframe tbody tr th {\n",
       "        vertical-align: top;\n",
       "    }\n",
       "\n",
       "    .dataframe thead th {\n",
       "        text-align: right;\n",
       "    }\n",
       "</style>\n",
       "<table border=\"1\" class=\"dataframe\">\n",
       "  <thead>\n",
       "    <tr style=\"text-align: right;\">\n",
       "      <th></th>\n",
       "      <th>Open</th>\n",
       "      <th>High</th>\n",
       "      <th>Low</th>\n",
       "      <th>Close</th>\n",
       "      <th>Adj Close</th>\n",
       "      <th>Volume</th>\n",
       "    </tr>\n",
       "    <tr>\n",
       "      <th>Date</th>\n",
       "      <th></th>\n",
       "      <th></th>\n",
       "      <th></th>\n",
       "      <th></th>\n",
       "      <th></th>\n",
       "      <th></th>\n",
       "    </tr>\n",
       "  </thead>\n",
       "  <tbody>\n",
       "    <tr>\n",
       "      <th>2020-05-27</th>\n",
       "      <td>180.199997</td>\n",
       "      <td>181.990005</td>\n",
       "      <td>176.600006</td>\n",
       "      <td>181.809998</td>\n",
       "      <td>178.608063</td>\n",
       "      <td>39517100</td>\n",
       "    </tr>\n",
       "    <tr>\n",
       "      <th>2020-05-28</th>\n",
       "      <td>180.740005</td>\n",
       "      <td>184.149994</td>\n",
       "      <td>180.380005</td>\n",
       "      <td>181.399994</td>\n",
       "      <td>178.205261</td>\n",
       "      <td>33810200</td>\n",
       "    </tr>\n",
       "    <tr>\n",
       "      <th>2020-05-29</th>\n",
       "      <td>182.729996</td>\n",
       "      <td>184.270004</td>\n",
       "      <td>180.410004</td>\n",
       "      <td>183.250000</td>\n",
       "      <td>180.022720</td>\n",
       "      <td>42130400</td>\n",
       "    </tr>\n",
       "    <tr>\n",
       "      <th>2020-06-01</th>\n",
       "      <td>182.539993</td>\n",
       "      <td>183.000000</td>\n",
       "      <td>181.460007</td>\n",
       "      <td>182.830002</td>\n",
       "      <td>179.610107</td>\n",
       "      <td>22622400</td>\n",
       "    </tr>\n",
       "    <tr>\n",
       "      <th>2020-06-02</th>\n",
       "      <td>184.250000</td>\n",
       "      <td>185.000000</td>\n",
       "      <td>181.350006</td>\n",
       "      <td>184.910004</td>\n",
       "      <td>181.653503</td>\n",
       "      <td>30794600</td>\n",
       "    </tr>\n",
       "  </tbody>\n",
       "</table>\n",
       "</div>"
      ],
      "text/plain": [
       "                  Open        High         Low       Close   Adj Close  \\\n",
       "Date                                                                     \n",
       "2020-05-27  180.199997  181.990005  176.600006  181.809998  178.608063   \n",
       "2020-05-28  180.740005  184.149994  180.380005  181.399994  178.205261   \n",
       "2020-05-29  182.729996  184.270004  180.410004  183.250000  180.022720   \n",
       "2020-06-01  182.539993  183.000000  181.460007  182.830002  179.610107   \n",
       "2020-06-02  184.250000  185.000000  181.350006  184.910004  181.653503   \n",
       "\n",
       "              Volume  \n",
       "Date                  \n",
       "2020-05-27  39517100  \n",
       "2020-05-28  33810200  \n",
       "2020-05-29  42130400  \n",
       "2020-06-01  22622400  \n",
       "2020-06-02  30794600  "
      ]
     },
     "execution_count": 8,
     "metadata": {},
     "output_type": "execute_result"
    }
   ],
   "source": [
    "import pandas as pd\n",
    "import cufflinks as cf\n",
    "import numpy as np\n",
    "import yfinance as yf\n",
    "\n",
    "cf.set_config_file(theme='pearl', world_readable=False)\n",
    "cf.go_offline()\n",
    "single_stock = yf.download('msft', start=\"2020-05-27\", end=\"2021-05-27\")\n",
    "\n",
    "single_stock.head()\n"
   ]
  },
  {
   "cell_type": "code",
   "execution_count": 9,
   "metadata": {},
   "outputs": [],
   "source": [
    "# single_stock['Adj Close'].iplot(title='MSFT Adjusted Close', colors=['red'])"
   ]
  },
  {
   "cell_type": "markdown",
   "metadata": {},
   "source": [
    "This is an example of an article writen on jupyter notebooks"
   ]
  },
  {
   "cell_type": "code",
   "execution_count": 10,
   "metadata": {},
   "outputs": [
    {
     "ename": "ModuleNotFoundError",
     "evalue": "No module named 'mpld3'",
     "output_type": "error",
     "traceback": [
      "\u001b[0;31m---------------------------------------------------------------------------\u001b[0m",
      "\u001b[0;31mModuleNotFoundError\u001b[0m                       Traceback (most recent call last)",
      "\u001b[1;32m/Users/santi/articles/gomezpaz.github.io/_notebooks/2020-08-08-test.ipynb Cell 6'\u001b[0m in \u001b[0;36m<cell line: 1>\u001b[0;34m()\u001b[0m\n\u001b[0;32m----> <a href='vscode-notebook-cell:/Users/santi/articles/gomezpaz.github.io/_notebooks/2020-08-08-test.ipynb#ch0000005?line=0'>1</a>\u001b[0m \u001b[39mimport\u001b[39;00m \u001b[39mmatplotlib\u001b[39;00m\u001b[39m.\u001b[39;00m\u001b[39mpyplot\u001b[39;00m \u001b[39mas\u001b[39;00m \u001b[39mplt\u001b[39;00m\u001b[39m,\u001b[39m \u001b[39mmpld3\u001b[39;00m\n\u001b[1;32m      <a href='vscode-notebook-cell:/Users/santi/articles/gomezpaz.github.io/_notebooks/2020-08-08-test.ipynb#ch0000005?line=2'>3</a>\u001b[0m fig \u001b[39m=\u001b[39m plt\u001b[39m.\u001b[39mfigure()\n\u001b[1;32m      <a href='vscode-notebook-cell:/Users/santi/articles/gomezpaz.github.io/_notebooks/2020-08-08-test.ipynb#ch0000005?line=3'>4</a>\u001b[0m plt\u001b[39m.\u001b[39mplot([\u001b[39m3\u001b[39m,\u001b[39m1\u001b[39m,\u001b[39m4\u001b[39m,\u001b[39m1\u001b[39m,\u001b[39m5\u001b[39m], \u001b[39m'\u001b[39m\u001b[39mks-\u001b[39m\u001b[39m'\u001b[39m, mec\u001b[39m=\u001b[39m\u001b[39m'\u001b[39m\u001b[39mw\u001b[39m\u001b[39m'\u001b[39m, mew\u001b[39m=\u001b[39m\u001b[39m5\u001b[39m, ms\u001b[39m=\u001b[39m\u001b[39m20\u001b[39m)\n",
      "\u001b[0;31mModuleNotFoundError\u001b[0m: No module named 'mpld3'"
     ]
    }
   ],
   "source": [
    "import matplotlib.pyplot as plt, mpld3\n",
    "\n",
    "fig = plt.figure()\n",
    "plt.plot([3,1,4,1,5], 'ks-', mec='w', mew=5, ms=20)\n",
    "mpld3.show()\n",
    "mpld3.save_html(fig,fileobj=\"testMpld3.html\",no_extras=True,template_type=\"general\")"
   ]
  }
 ],
 "metadata": {
  "kernelspec": {
   "display_name": "Python 3.10.5 64-bit",
   "language": "python",
   "name": "python3"
  },
  "language_info": {
   "codemirror_mode": {
    "name": "ipython",
    "version": 3
   },
   "file_extension": ".py",
   "mimetype": "text/x-python",
   "name": "python",
   "nbconvert_exporter": "python",
   "pygments_lexer": "ipython3",
   "version": "3.10.5"
  },
  "orig_nbformat": 4,
  "vscode": {
   "interpreter": {
    "hash": "aee8b7b246df8f9039afb4144a1f6fd8d2ca17a180786b69acc140d282b71a49"
   }
  }
 },
 "nbformat": 4,
 "nbformat_minor": 2
}
